{
 "cells": [
  {
   "cell_type": "code",
   "execution_count": 4,
   "id": "8d8943ad-5d3b-4cf9-adc2-557c44d431b7",
   "metadata": {},
   "outputs": [],
   "source": [
    "from flair.data import Corpus        \n",
    "from flair.datasets import CONLL_03\n",
    "from flair.embeddings import WordEmbeddings, StackedEmbeddings, FlairEmbeddings"
   ]
  },
  {
   "cell_type": "code",
   "execution_count": 10,
   "id": "fb2924a2-9ab1-4c18-8f04-86bfdb8f9c8c",
   "metadata": {},
   "outputs": [
    {
     "name": "stdout",
     "output_type": "stream",
     "text": [
      "2022-11-03 13:10:39,451 Reading data from data\\others\\conll_03\n",
      "2022-11-03 13:10:39,451 Train: data\\others\\conll_03\\train.txt\n",
      "2022-11-03 13:10:39,452 Dev: None\n",
      "2022-11-03 13:10:39,452 Test: data\\others\\conll_03\\test.txt\n"
     ]
    }
   ],
   "source": [
    "#corpus: Corpus = CONLL_03()\n",
    "corpus: Corpus = CONLL_03(base_path='data/others')"
   ]
  },
  {
   "cell_type": "code",
   "execution_count": 11,
   "id": "a387a334-3c32-4191-8478-6dfc673a6597",
   "metadata": {},
   "outputs": [],
   "source": [
    "tag_type = 'ner'"
   ]
  },
  {
   "cell_type": "code",
   "execution_count": 12,
   "id": "39632f05-93e0-462f-8dea-e2d32e6de618",
   "metadata": {},
   "outputs": [
    {
     "name": "stderr",
     "output_type": "stream",
     "text": [
      "C:\\Users\\pc\\AppData\\Local\\Temp\\ipykernel_13912\\210095510.py:1: DeprecationWarning: Call to deprecated method make_tag_dictionary. (Use 'make_label_dictionary' instead.) -- Deprecated since version 0.8.\n",
      "  tag_dictionary = corpus.make_tag_dictionary(tag_type=tag_type)\n"
     ]
    },
    {
     "ename": "AttributeError",
     "evalue": "'Token' object has no attribute 'get_tag'",
     "output_type": "error",
     "traceback": [
      "\u001b[1;31m---------------------------------------------------------------------------\u001b[0m",
      "\u001b[1;31mAttributeError\u001b[0m                            Traceback (most recent call last)",
      "Input \u001b[1;32mIn [12]\u001b[0m, in \u001b[0;36m<cell line: 1>\u001b[1;34m()\u001b[0m\n\u001b[1;32m----> 1\u001b[0m tag_dictionary \u001b[38;5;241m=\u001b[39m \u001b[43mcorpus\u001b[49m\u001b[38;5;241;43m.\u001b[39;49m\u001b[43mmake_tag_dictionary\u001b[49m\u001b[43m(\u001b[49m\u001b[43mtag_type\u001b[49m\u001b[38;5;241;43m=\u001b[39;49m\u001b[43mtag_type\u001b[49m\u001b[43m)\u001b[49m\n",
      "File \u001b[1;32mC:\\ProgramData\\Anaconda3\\envs\\stance\\lib\\site-packages\\deprecated\\classic.py:285\u001b[0m, in \u001b[0;36mdeprecated.<locals>.wrapper_function\u001b[1;34m(wrapped_, instance_, args_, kwargs_)\u001b[0m\n\u001b[0;32m    283\u001b[0m \u001b[38;5;28;01melse\u001b[39;00m:\n\u001b[0;32m    284\u001b[0m     warnings\u001b[38;5;241m.\u001b[39mwarn(msg, category\u001b[38;5;241m=\u001b[39mcategory, stacklevel\u001b[38;5;241m=\u001b[39m_routine_stacklevel)\n\u001b[1;32m--> 285\u001b[0m \u001b[38;5;28;01mreturn\u001b[39;00m \u001b[43mwrapped_\u001b[49m\u001b[43m(\u001b[49m\u001b[38;5;241;43m*\u001b[39;49m\u001b[43margs_\u001b[49m\u001b[43m,\u001b[49m\u001b[43m \u001b[49m\u001b[38;5;241;43m*\u001b[39;49m\u001b[38;5;241;43m*\u001b[39;49m\u001b[43mkwargs_\u001b[49m\u001b[43m)\u001b[49m\n",
      "File \u001b[1;32mC:\\ProgramData\\Anaconda3\\envs\\stance\\lib\\site-packages\\flair\\data.py:1524\u001b[0m, in \u001b[0;36mCorpus.make_tag_dictionary\u001b[1;34m(self, tag_type)\u001b[0m\n\u001b[0;32m   1522\u001b[0m \u001b[38;5;28;01mfor\u001b[39;00m sentence \u001b[38;5;129;01min\u001b[39;00m _iter_dataset(\u001b[38;5;28mself\u001b[39m\u001b[38;5;241m.\u001b[39mget_all_sentences()):\n\u001b[0;32m   1523\u001b[0m     \u001b[38;5;28;01mfor\u001b[39;00m token \u001b[38;5;129;01min\u001b[39;00m sentence\u001b[38;5;241m.\u001b[39mtokens:\n\u001b[1;32m-> 1524\u001b[0m         tag_dictionary\u001b[38;5;241m.\u001b[39madd_item(\u001b[43mtoken\u001b[49m\u001b[38;5;241;43m.\u001b[39;49m\u001b[43mget_tag\u001b[49m(tag_type)\u001b[38;5;241m.\u001b[39mvalue)\n\u001b[0;32m   1525\u001b[0m tag_dictionary\u001b[38;5;241m.\u001b[39madd_item(\u001b[38;5;124m\"\u001b[39m\u001b[38;5;124m<START>\u001b[39m\u001b[38;5;124m\"\u001b[39m)\n\u001b[0;32m   1526\u001b[0m tag_dictionary\u001b[38;5;241m.\u001b[39madd_item(\u001b[38;5;124m\"\u001b[39m\u001b[38;5;124m<STOP>\u001b[39m\u001b[38;5;124m\"\u001b[39m)\n",
      "\u001b[1;31mAttributeError\u001b[0m: 'Token' object has no attribute 'get_tag'"
     ]
    }
   ],
   "source": [
    "tag_dictionary = corpus.make_tag_dictionary(tag_type=tag_type)\n"
   ]
  },
  {
   "cell_type": "code",
   "execution_count": null,
   "id": "d42f2f9f-d5b0-4b6e-9e4b-f12c67117302",
   "metadata": {},
   "outputs": [],
   "source": []
  }
 ],
 "metadata": {
  "kernelspec": {
   "display_name": "Python 3 (ipykernel)",
   "language": "python",
   "name": "python3"
  },
  "language_info": {
   "codemirror_mode": {
    "name": "ipython",
    "version": 3
   },
   "file_extension": ".py",
   "mimetype": "text/x-python",
   "name": "python",
   "nbconvert_exporter": "python",
   "pygments_lexer": "ipython3",
   "version": "3.8.11"
  }
 },
 "nbformat": 4,
 "nbformat_minor": 5
}
