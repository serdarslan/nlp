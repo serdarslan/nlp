{
 "cells": [
  {
   "cell_type": "code",
   "execution_count": 5,
   "id": "34ecbafa",
   "metadata": {},
   "outputs": [],
   "source": [
    "import tweepy as tw\n",
    "import pandas as pd\n",
    "import datetime\n",
    "import csv\n",
    "import re\n",
    "import nltk\n",
    "from nltk.corpus import stopwords\n",
    "from textblob import TextBlob\n",
    "import networkx\n",
    "\n"
   ]
  },
  {
   "cell_type": "code",
   "execution_count": 6,
   "id": "da0fda9d",
   "metadata": {},
   "outputs": [
    {
     "name": "stdout",
     "output_type": "stream",
     "text": [
      "Authentication Successfull\n"
     ]
    }
   ],
   "source": [
    "API_KEY = ''\n",
    "SECRET_KEY = ''\n",
    "BEARER_TOKEN = ''\n",
    "ACCESS_TOKEN = ''\n",
    "SECRET_TOKEN = ''\n",
    "\n",
    "try:\n",
    "    auth = tw.OAuthHandler(API_KEY, SECRET_KEY)\n",
    "    auth.set_access_token(ACCESS_TOKEN, SECRET_TOKEN)\n",
    "    api = tw.API(auth, wait_on_rate_limit=True, wait_on_rate_limit_notify=True)\n",
    "    print(\"Authentication Successfull\")\n",
    "except:\n",
    "    print(\"Error: Authentication Failed\")"
   ]
  },
  {
   "cell_type": "code",
   "execution_count": 7,
   "id": "392e50db",
   "metadata": {},
   "outputs": [],
   "source": [
    "def remove_url(txt):\n",
    "    return \" \".join(re.sub(\"([^0-9A-Za-z \\t])|(\\w+:\\/\\/\\S+)\", \"\", txt).split())"
   ]
  },
  {
   "cell_type": "code",
   "execution_count": 8,
   "id": "876d9662",
   "metadata": {},
   "outputs": [
    {
     "name": "stdout",
     "output_type": "stream",
     "text": [
      "2021-09-08 2021-09-09\n"
     ]
    }
   ],
   "source": [
    "today = datetime.date.today()\n",
    "yesterday= today - datetime.timedelta(days=1)\n",
    "end = yesterday\n",
    "start = end - datetime.timedelta(days=1)\n",
    "print(start, end)"
   ]
  },
  {
   "cell_type": "code",
   "execution_count": 10,
   "id": "1ff4565f",
   "metadata": {},
   "outputs": [],
   "source": [
    "search_words = \"#asıolmayacağım -filter:retweets\"\n",
    "tweets_list = tw.Cursor(api.search, q=search_words,tweet_mode='extended', lang='tr', since = start, until = end).items(1000)\n",
    "tweets_no_urls = [remove_url(tweet._json[\"full_text\"]) for tweet in tweets_list]"
   ]
  },
  {
   "cell_type": "code",
   "execution_count": null,
   "id": "bc7da94f",
   "metadata": {},
   "outputs": [],
   "source": []
  },
  {
   "cell_type": "code",
   "execution_count": 7,
   "id": "9661faf7",
   "metadata": {},
   "outputs": [
    {
     "data": {
      "text/plain": [
       "(0.0, TextBlob(\"Second BioNtech shot appointment acquired\"))"
      ]
     },
     "execution_count": 7,
     "metadata": {},
     "output_type": "execute_result"
    }
   ],
   "source": [
    "# Create textblob objects of the tweets\n",
    "sentiment_objects_tur = [TextBlob(tweet) for tweet in tweets_no_urls]\n",
    "\n",
    "sentiment_objects_tur[0].polarity, sentiment_objects_tur[0]"
   ]
  },
  {
   "cell_type": "code",
   "execution_count": 8,
   "id": "2bb90a48",
   "metadata": {},
   "outputs": [
    {
     "data": {
      "text/plain": [
       "(0.0, TextBlob(\"Second BioNtech shot appointment acquired\"))"
      ]
     },
     "execution_count": 8,
     "metadata": {},
     "output_type": "execute_result"
    }
   ],
   "source": [
    "sentiment_objects = []\n",
    "try:\n",
    "    for x in sentiment_objects_tur:\n",
    "        try:\n",
    "            if (x.detect_language() != 'en'):\n",
    "                sentiment_objects.append(x.translate(to=\"en\"))\n",
    "            else:\n",
    "                sentiment_objects.append(x)\n",
    "        except:\n",
    "            pass\n",
    "    #sentiment_objects = [x.translate(to=\"en\") for x in sentiment_objects_tur]\n",
    "except Exception as e:\n",
    "    print(e)\n",
    "    pass\n",
    "sentiment_objects[0].polarity, sentiment_objects[0]"
   ]
  },
  {
   "cell_type": "code",
   "execution_count": 9,
   "id": "31f4b559",
   "metadata": {},
   "outputs": [
    {
     "data": {
      "text/plain": [
       "[0.0, 'Second BioNtech shot appointment acquired']"
      ]
     },
     "execution_count": 9,
     "metadata": {},
     "output_type": "execute_result"
    }
   ],
   "source": [
    "# Create list of polarity valuesx and tweet text\n",
    "sentiment_values = [[tweet.sentiment.polarity, str(tweet)] for tweet in sentiment_objects]\n",
    "\n",
    "sentiment_values[0]"
   ]
  },
  {
   "cell_type": "code",
   "execution_count": 10,
   "id": "72b9cf67",
   "metadata": {},
   "outputs": [
    {
     "data": {
      "text/html": [
       "<div>\n",
       "<style scoped>\n",
       "    .dataframe tbody tr th:only-of-type {\n",
       "        vertical-align: middle;\n",
       "    }\n",
       "\n",
       "    .dataframe tbody tr th {\n",
       "        vertical-align: top;\n",
       "    }\n",
       "\n",
       "    .dataframe thead th {\n",
       "        text-align: right;\n",
       "    }\n",
       "</style>\n",
       "<table border=\"1\" class=\"dataframe\">\n",
       "  <thead>\n",
       "    <tr style=\"text-align: right;\">\n",
       "      <th></th>\n",
       "      <th>polarity</th>\n",
       "      <th>tweet</th>\n",
       "    </tr>\n",
       "  </thead>\n",
       "  <tbody>\n",
       "    <tr>\n",
       "      <th>0</th>\n",
       "      <td>0.000000</td>\n",
       "      <td>Second BioNtech shot appointment acquired</td>\n",
       "    </tr>\n",
       "    <tr>\n",
       "      <th>1</th>\n",
       "      <td>0.157143</td>\n",
       "      <td>areearly3 nichpic TimJDillon The Pfizerbiontec...</td>\n",
       "    </tr>\n",
       "    <tr>\n",
       "      <th>2</th>\n",
       "      <td>0.153680</td>\n",
       "      <td>pepeMcGee billbowtell Oh right So Pfizer only ...</td>\n",
       "    </tr>\n",
       "    <tr>\n",
       "      <th>3</th>\n",
       "      <td>0.000000</td>\n",
       "      <td>Pfizer BioNTech kicked off the debate over boo...</td>\n",
       "    </tr>\n",
       "    <tr>\n",
       "      <th>4</th>\n",
       "      <td>0.175000</td>\n",
       "      <td>Let me also add that Moderna and BioNTech have...</td>\n",
       "    </tr>\n",
       "  </tbody>\n",
       "</table>\n",
       "</div>"
      ],
      "text/plain": [
       "   polarity                                              tweet\n",
       "0  0.000000          Second BioNtech shot appointment acquired\n",
       "1  0.157143  areearly3 nichpic TimJDillon The Pfizerbiontec...\n",
       "2  0.153680  pepeMcGee billbowtell Oh right So Pfizer only ...\n",
       "3  0.000000  Pfizer BioNTech kicked off the debate over boo...\n",
       "4  0.175000  Let me also add that Moderna and BioNTech have..."
      ]
     },
     "execution_count": 10,
     "metadata": {},
     "output_type": "execute_result"
    }
   ],
   "source": [
    "# Create dataframe containing the polarity value and tweet text\n",
    "sentiment_df = pd.DataFrame(sentiment_values, columns=[\"polarity\", \"tweet\"])\n",
    "\n",
    "sentiment_df.head()"
   ]
  },
  {
   "cell_type": "code",
   "execution_count": 11,
   "id": "9e5055c7",
   "metadata": {},
   "outputs": [],
   "source": [
    "sentiment_df.to_csv(\"data/textblob_deneme.csv\", sep = '|')"
   ]
  },
  {
   "cell_type": "code",
   "execution_count": null,
   "id": "653e4955",
   "metadata": {},
   "outputs": [],
   "source": []
  }
 ],
 "metadata": {
  "kernelspec": {
   "display_name": "Python 3 (ipykernel)",
   "language": "python",
   "name": "python3"
  },
  "language_info": {
   "codemirror_mode": {
    "name": "ipython",
    "version": 3
   },
   "file_extension": ".py",
   "mimetype": "text/x-python",
   "name": "python",
   "nbconvert_exporter": "python",
   "pygments_lexer": "ipython3",
   "version": "3.8.11"
  }
 },
 "nbformat": 4,
 "nbformat_minor": 5
}
