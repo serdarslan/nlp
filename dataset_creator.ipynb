{
 "cells": [
  {
   "cell_type": "code",
   "execution_count": 14,
   "id": "d1d7bbc8-ac9c-46cd-ab11-c67ca5314dee",
   "metadata": {},
   "outputs": [],
   "source": [
    "import os\n",
    "import itertools\n",
    "import pandas as pd\n",
    "import numpy as np"
   ]
  },
  {
   "cell_type": "code",
   "execution_count": 15,
   "id": "cac629ed-3dcc-4884-889a-d2270c1bdc4b",
   "metadata": {},
   "outputs": [
    {
     "data": {
      "text/html": [
       "<div>\n",
       "<style scoped>\n",
       "    .dataframe tbody tr th:only-of-type {\n",
       "        vertical-align: middle;\n",
       "    }\n",
       "\n",
       "    .dataframe tbody tr th {\n",
       "        vertical-align: top;\n",
       "    }\n",
       "\n",
       "    .dataframe thead th {\n",
       "        text-align: right;\n",
       "    }\n",
       "</style>\n",
       "<table border=\"1\" class=\"dataframe\">\n",
       "  <thead>\n",
       "    <tr style=\"text-align: right;\">\n",
       "      <th></th>\n",
       "      <th>tokens</th>\n",
       "      <th>ner_tags</th>\n",
       "    </tr>\n",
       "  </thead>\n",
       "  <tbody>\n",
       "    <tr>\n",
       "      <th>0</th>\n",
       "      <td>['(', 'AIR', 'COMBAT', 'SIMULATOR', 'PARTS', '...</td>\n",
       "      <td>['O ', 'B_PRODUCT', 'I_PRODUCT', 'I_PRODUCT', ...</td>\n",
       "    </tr>\n",
       "    <tr>\n",
       "      <th>1</th>\n",
       "      <td>['(', 'AIR', 'COMBAT', 'SIMULATOR', 'PARTS', '...</td>\n",
       "      <td>['O ', 'B_PRODUCT', 'I_PRODUCT', 'I_PRODUCT', ...</td>\n",
       "    </tr>\n",
       "    <tr>\n",
       "      <th>2</th>\n",
       "      <td>['(', 'AIR', 'COMBAT', 'SIMULATOR', 'PARTS', '...</td>\n",
       "      <td>['O ', 'B_PRODUCT', 'I_PRODUCT', 'I_PRODUCT', ...</td>\n",
       "    </tr>\n",
       "    <tr>\n",
       "      <th>3</th>\n",
       "      <td>['(', 'AIR', 'COMBAT', 'SIMULATOR', 'PARTS', '...</td>\n",
       "      <td>['O ', 'B_PRODUCT', 'I_PRODUCT', 'I_PRODUCT', ...</td>\n",
       "    </tr>\n",
       "    <tr>\n",
       "      <th>4</th>\n",
       "      <td>['(', 'AIR', 'COMBAT', 'SIMULATOR', 'PARTS', '...</td>\n",
       "      <td>['O ', 'B_PRODUCT', 'I_PRODUCT', 'I_PRODUCT', ...</td>\n",
       "    </tr>\n",
       "  </tbody>\n",
       "</table>\n",
       "</div>"
      ],
      "text/plain": [
       "                                              tokens  \\\n",
       "0  ['(', 'AIR', 'COMBAT', 'SIMULATOR', 'PARTS', '...   \n",
       "1  ['(', 'AIR', 'COMBAT', 'SIMULATOR', 'PARTS', '...   \n",
       "2  ['(', 'AIR', 'COMBAT', 'SIMULATOR', 'PARTS', '...   \n",
       "3  ['(', 'AIR', 'COMBAT', 'SIMULATOR', 'PARTS', '...   \n",
       "4  ['(', 'AIR', 'COMBAT', 'SIMULATOR', 'PARTS', '...   \n",
       "\n",
       "                                            ner_tags  \n",
       "0  ['O ', 'B_PRODUCT', 'I_PRODUCT', 'I_PRODUCT', ...  \n",
       "1  ['O ', 'B_PRODUCT', 'I_PRODUCT', 'I_PRODUCT', ...  \n",
       "2  ['O ', 'B_PRODUCT', 'I_PRODUCT', 'I_PRODUCT', ...  \n",
       "3  ['O ', 'B_PRODUCT', 'I_PRODUCT', 'I_PRODUCT', ...  \n",
       "4  ['O ', 'B_PRODUCT', 'I_PRODUCT', 'I_PRODUCT', ...  "
      ]
     },
     "execution_count": 15,
     "metadata": {},
     "output_type": "execute_result"
    }
   ],
   "source": [
    "df = pd.read_csv(\"data/test_temiz.csv\")\n",
    "df.head(5)"
   ]
  },
  {
   "cell_type": "code",
   "execution_count": 16,
   "id": "d1b8ccf4-7f95-4d0b-9f9d-7a529540bf1f",
   "metadata": {},
   "outputs": [],
   "source": [
    "df = df.reset_index() "
   ]
  },
  {
   "cell_type": "code",
   "execution_count": 20,
   "id": "dda93445-9c58-465e-afe1-4fbb7eb4265c",
   "metadata": {},
   "outputs": [],
   "source": [
    "file1 = open(\"train.txt\", \"w\") \n",
    "for index, row in df.iterrows():\n",
    "    try:\n",
    "        token = row['tokens']\n",
    "        token = token.replace(\"[\", \"\")\n",
    "        token = token.replace(\"]\", \"\")\n",
    "        token = token.replace(\"'\", \"\")\n",
    "        token = token.replace(\" \", \"\")\n",
    "        tag = row['ner_tags']\n",
    "        tag = tag.replace(\"[\", \"\")\n",
    "        tag = tag.replace(\"]\", \"\")\n",
    "        tag = tag.replace(\"'\", \"\")\n",
    "        tag = tag.replace(\" \", \"\")\n",
    "        #print(token)\n",
    "        xx = token.split(\",\")\n",
    "        yy = tag.split(\",\")\n",
    "        if (len(xx) != len(yy)):\n",
    "            continue\n",
    "        for i,x in enumerate(xx):\n",
    "            #print(x +\"\\t\" + yy[i])\n",
    "            file1.write(x +\"\\t\" + yy[i] + \"\\n\")\n",
    "    except:\n",
    "        pass\n",
    "file1.close()\n",
    "        "
   ]
  },
  {
   "cell_type": "code",
   "execution_count": 9,
   "id": "0d00cceb-7b6e-44b1-bcdb-1bd7a0532341",
   "metadata": {},
   "outputs": [
    {
     "data": {
      "text/plain": [
       "[\"['('\",\n",
       " \" 'AIR'\",\n",
       " \" 'COMBAT'\",\n",
       " \" 'SIMULATOR'\",\n",
       " \" 'PARTS'\",\n",
       " \" ')'\",\n",
       " \" 'DIGITAL'\",\n",
       " \" 'OUTPUT'\",\n",
       " \" '32'\",\n",
       " \" '-'\",\n",
       " \" 'CHANNEL'\",\n",
       " \" 'SINKUEI'\",\n",
       " \" 'PNO'\",\n",
       " \" '-'\",\n",
       " \" 'DNR'\",\n",
       " \" '-'\",\n",
       " \" 'DIO'\",\n",
       " \" '432'\",\n",
       " \" '-'\",\n",
       " \" '800']\"]"
      ]
     },
     "execution_count": 9,
     "metadata": {},
     "output_type": "execute_result"
    }
   ],
   "source": [
    "token = df['tokens'][0]\n",
    "tag = df['ner_tags'][0]\n",
    "xx = token.split(\",\")\n",
    "yy = tag.split(\",\")\n",
    "xx"
   ]
  },
  {
   "cell_type": "code",
   "execution_count": 10,
   "id": "1c6b962c-1b83-4005-aff5-af5f4da415b7",
   "metadata": {},
   "outputs": [
    {
     "data": {
      "text/plain": [
       "\" 'O '\""
      ]
     },
     "execution_count": 10,
     "metadata": {},
     "output_type": "execute_result"
    }
   ],
   "source": [
    "yy[8]"
   ]
  },
  {
   "cell_type": "code",
   "execution_count": null,
   "id": "29ea858b-430c-4133-bc96-53e280843f68",
   "metadata": {},
   "outputs": [],
   "source": []
  }
 ],
 "metadata": {
  "kernelspec": {
   "display_name": "Python 3 (ipykernel)",
   "language": "python",
   "name": "python3"
  },
  "language_info": {
   "codemirror_mode": {
    "name": "ipython",
    "version": 3
   },
   "file_extension": ".py",
   "mimetype": "text/x-python",
   "name": "python",
   "nbconvert_exporter": "python",
   "pygments_lexer": "ipython3",
   "version": "3.8.11"
  }
 },
 "nbformat": 4,
 "nbformat_minor": 5
}
