{
 "cells": [
  {
   "cell_type": "code",
   "execution_count": null,
   "id": "42db9472-3a70-4de4-9c88-b768f1b4be40",
   "metadata": {},
   "outputs": [],
   "source": [
    "!pip install transformers \n",
    "\n",
    "import torch\n",
    "from transformers import AutoTokenizer, AutoModel\n",
    "\n",
    "device = torch.device('cuda' if torch.cuda.is_available() else 'cpu')\n",
    "\n",
    "tokenizer = AutoTokenizer.from_pretrained(\"distilbert-base-uncased\")\n",
    "model = AutoModel.from_pretrained(\"distilbert-base-uncased\").to(device)"
   ]
  },
  {
   "cell_type": "code",
   "execution_count": null,
   "id": "bce252e8-589c-4778-83f0-a9e234cd0d37",
   "metadata": {},
   "outputs": [],
   "source": [
    "import pandas as pd\n",
    "import numpy as np\n",
    "from sklearn.preprocessing import LabelEncoder\n",
    "\n",
    "#for dimostration pourposes I inly use 2k data\n",
    "df = pd.read_json(\"/content/dataset.json\", lines = True).sample(frac=1)[:2_000]\n",
    "LE = LabelEncoder()\n",
    "df['label'] = LE.fit_transform(df['category'])\n",
    "df.head()"
   ]
  },
  {
   "cell_type": "code",
   "execution_count": null,
   "id": "1df3fea7-f704-468d-b0ac-dfe7f0e74be5",
   "metadata": {},
   "outputs": [],
   "source": [
    "tokenized_train = tokenizer(df_train[\"short_description\"].values.tolist(), padding = True, truncation = True, return_tensors=\"pt\")\n",
    "tokenized_val = tokenizer(df_val[\"short_description\"].values.tolist() , padding = True, truncation = True,  return_tensors=\"pt\")\n",
    "\n",
    "print(tokenized_train.keys())\n",
    "\n",
    "#move on device (GPU)\n",
    "tokenized_train = {k:torch.tensor(v).to(device) for k,v in tokenized_train.items()}\n",
    "tokenized_val = {k:torch.tensor(v).to(device) for k,v in tokenized_val.items()}"
   ]
  },
  {
   "cell_type": "code",
   "execution_count": null,
   "id": "1373ddf5-30a2-44bc-9986-c00f03e094cd",
   "metadata": {},
   "outputs": [],
   "source": [
    "with torch.no_grad():\n",
    "  hidden_train = model(**tokenized_train) #dim : [batch_size(nr_sentences), tokens, emb_dim]\n",
    "  hidden_val = model(**tokenized_val)\n",
    "\n",
    "#get only the [CLS] hidden states\n",
    "cls_train = hidden_train.last_hidden_state[:,0,:]\n",
    "cls_val = hidden_val.last_hidden_state[:,0,:]"
   ]
  },
  {
   "cell_type": "code",
   "execution_count": null,
   "id": "16274eb2-6062-4155-b6a4-8ed3b86fd0d9",
   "metadata": {},
   "outputs": [],
   "source": [
    "#classifier\n",
    "\n",
    "x_train = cls_train.to(\"cpu\")\n",
    "y_train = df_train[\"label\"]\n",
    "\n",
    "x_val = cls_val.to(\"cpu\")\n",
    "y_val = df_val[\"label\"]\n",
    "\n",
    "print(x_train.shape, y_train.shape, x_val.shape, y_val.shape)\n",
    "\n",
    "\n",
    "from sklearn.ensemble import RandomForestClassifier\n",
    "\n",
    "rf = RandomForestClassifier()\n",
    "rf.fit(x_train,y_train)\n",
    "rf.score(x_val,y_val) \n",
    "\n",
    "from sklearn.dummy import DummyClassifier\n",
    "\n",
    "dummy = DummyClassifier(strategy= \"uniform\")\n",
    "dummy.fit(x_train,y_train)\n",
    "dummy.score(x_val,y_val)"
   ]
  }
 ],
 "metadata": {
  "kernelspec": {
   "display_name": "Python 3 (ipykernel)",
   "language": "python",
   "name": "python3"
  },
  "language_info": {
   "codemirror_mode": {
    "name": "ipython",
    "version": 3
   },
   "file_extension": ".py",
   "mimetype": "text/x-python",
   "name": "python",
   "nbconvert_exporter": "python",
   "pygments_lexer": "ipython3",
   "version": "3.8.11"
  }
 },
 "nbformat": 4,
 "nbformat_minor": 5
}
