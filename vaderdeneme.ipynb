{
 "cells": [
  {
   "cell_type": "code",
   "execution_count": 35,
   "id": "11dee4cf-5f46-485c-84e7-ae5a2dc8a44f",
   "metadata": {},
   "outputs": [],
   "source": [
    "import tweepy as tw\n",
    "import pandas as pd\n",
    "import datetime\n",
    "import csv\n",
    "import re"
   ]
  },
  {
   "cell_type": "code",
   "execution_count": 28,
   "id": "a3878f8b-dfa8-429b-907c-c0a42e46b491",
   "metadata": {},
   "outputs": [],
   "source": [
    "API_KEY = ''\n",
    "SECRET_KEY = ''\n",
    "BEARER_TOKEN = ''\n",
    "ACCESS_TOKEN = ''\n",
    "SECRET_TOKEN = ''\n",
   ]
  },
  {
   "cell_type": "code",
   "execution_count": 29,
   "id": "90bcb064-9bea-455e-ab0d-1c722027ddd8",
   "metadata": {},
   "outputs": [
    {
     "name": "stdout",
     "output_type": "stream",
     "text": [
      "Authentication Successfull\n"
     ]
    }
   ],
   "source": [
    "try:\n",
    "    auth = tw.OAuthHandler(API_KEY, SECRET_KEY)\n",
    "    auth.set_access_token(ACCESS_TOKEN, SECRET_TOKEN)\n",
    "    api = tw.API(auth, wait_on_rate_limit=True, wait_on_rate_limit_notify=True)\n",
    "    print(\"Authentication Successfull\")\n",
    "except:\n",
    "    print(\"Error: Authentication Failed\")"
   ]
  },
  {
   "cell_type": "code",
   "execution_count": 30,
   "id": "bd756ab5-685c-43f6-a74d-6122c12dc980",
   "metadata": {},
   "outputs": [
    {
     "name": "stdout",
     "output_type": "stream",
     "text": [
      "2021-07-09 2021-07-10\n"
     ]
    }
   ],
   "source": [
    "today = datetime.date.today()\n",
    "yesterday= today - datetime.timedelta(days=1)\n",
    "end = yesterday\n",
    "start = end - datetime.timedelta(days=1)\n",
    "print(start, end)"
   ]
  },
  {
   "cell_type": "code",
   "execution_count": 36,
   "id": "d1bebafa-1ae6-4564-bb18-ff2437dbaadb",
   "metadata": {},
   "outputs": [],
   "source": [
    "def remove_url(txt):\n",
    "    \"\"\"Replace URLs found in a text string with nothing \n",
    "    (i.e. it will remove the URL from the string).\n",
    "\n",
    "    Parameters\n",
    "    ----------\n",
    "    txt : string\n",
    "        A text string that you want to parse and remove urls.\n",
    "\n",
    "    Returns\n",
    "    -------\n",
    "    The same txt string with url's removed.\n",
    "    \"\"\"\n",
    "\n",
    "    return \" \".join(re.sub(\"([^0-9A-Za-z \\t])|(\\w+:\\/\\/\\S+)\", \"\", txt).split())"
   ]
  },
  {
   "cell_type": "code",
   "execution_count": 37,
   "id": "b51fe7dd-b23e-42bf-9ad1-6a8c9c6e82df",
   "metadata": {},
   "outputs": [],
   "source": [
    "search_words = \"biontech -filter:retweets\"\n",
    "tweets_list = tw.Cursor(api.search, q=search_words,tweet_mode='extended', lang='tr', since = start, until = end).items(1000)\n",
    "tweets_no_urls = [remove_url(tweet._json[\"full_text\"]) for tweet in tweets_list]"
   ]
  },
  {
   "cell_type": "code",
   "execution_count": 38,
   "id": "52e7fdc9-75dd-4cea-b245-e151d9f40000",
   "metadata": {},
   "outputs": [
    {
     "ename": "ModuleNotFoundError",
     "evalue": "No module named 'textblob'",
     "output_type": "error",
     "traceback": [
      "\u001b[1;31m---------------------------------------------------------------------------\u001b[0m",
      "\u001b[1;31mModuleNotFoundError\u001b[0m                       Traceback (most recent call last)",
      "\u001b[1;32m<ipython-input-38-beb514e823a4>\u001b[0m in \u001b[0;36m<module>\u001b[1;34m\u001b[0m\n\u001b[1;32m----> 1\u001b[1;33m \u001b[1;32mfrom\u001b[0m \u001b[0mtextblob\u001b[0m \u001b[1;32mimport\u001b[0m \u001b[0mTextBlob\u001b[0m\u001b[1;33m\u001b[0m\u001b[1;33m\u001b[0m\u001b[0m\n\u001b[0m",
      "\u001b[1;31mModuleNotFoundError\u001b[0m: No module named 'textblob'"
     ]
    }
   ],
   "source": [
    "from textblob import TextBlob"
   ]
  },
  {
   "cell_type": "code",
   "execution_count": null,
   "id": "34798a39-bbff-4eff-be17-6d8765940631",
   "metadata": {},
   "outputs": [],
   "source": []
  },
  {
   "cell_type": "code",
   "execution_count": null,
   "id": "6e134c83-a1ac-4b43-8e41-1425c0c444f8",
   "metadata": {},
   "outputs": [],
   "source": []
  },
  {
   "cell_type": "code",
   "execution_count": null,
   "id": "f31c35cd-e05b-4d70-aab9-707471cf2e37",
   "metadata": {},
   "outputs": [],
   "source": []
  },
  {
   "cell_type": "code",
   "execution_count": null,
   "id": "38667b80-b8b6-445e-935b-0ce6e4422e4a",
   "metadata": {},
   "outputs": [],
   "source": [
    "#dosyaya yazma kısmı\n",
    "try:\n",
    "    outfilename = \"data/sentiment_result_\" + str(start) + \"_\" + str(end)+\".csv\"\n",
    "    print(outfilename)\n",
    "    csvFile = open(outfilename, 'a', encoding='utf-8')\n",
    "    csvWriter = csv.writer(csvFile,delimiter='|')\n",
    "    #output = []\n",
    "    for tweet in tweets_list:\n",
    "        text = tweet._json[\"full_text\"]\n",
    "        #print(text)\n",
    "        #favourite_count = tweet.favorite_count\n",
    "        #retweet_count = tweet.retweet_count\n",
    "        created_at = tweet.created_at\n",
    "\n",
    "        #line = {'text' : text, 'favourite_count' : favourite_count, 'retweet_count' : retweet_count, 'created_at' : created_at}\n",
    "        #line = {'text' : text, 'created_at' : created_at}\n",
    "        csvWriter.writerow([created_at, text])\n",
    "        #output.append(line)\n",
    "    csvFile.close()\n",
    "except Exception as e: \n",
    "    print(e)"
   ]
  },
  {
   "cell_type": "code",
   "execution_count": null,
   "id": "57d5e75c-e8aa-45a1-9034-18c9095500ad",
   "metadata": {},
   "outputs": [],
   "source": []
  },
  {
   "cell_type": "code",
   "execution_count": null,
   "id": "2d82ddbb-c91c-4da1-ab19-30c44440a588",
   "metadata": {},
   "outputs": [],
   "source": [
    "import nltk\n",
    "nltk.download('vader_lexicon')\n"
   ]
  },
  {
   "cell_type": "code",
   "execution_count": null,
   "id": "876988d4-c912-47c1-8459-f0548ba40c8e",
   "metadata": {},
   "outputs": [],
   "source": [
    "# Load SentimentIntensityAnalyzer\n",
    "from nltk.sentiment.vader import SentimentIntensityAnalyzer"
   ]
  },
  {
   "cell_type": "code",
   "execution_count": 12,
   "id": "8efb2ec7-71db-4295-89a4-8fb1907dd8de",
   "metadata": {},
   "outputs": [],
   "source": [
    "# Instantiate new SentimentIntensityAnalyzer\n",
    "sid = SentimentIntensityAnalyzer()"
   ]
  },
  {
   "cell_type": "code",
   "execution_count": 21,
   "id": "0ebe6629-17bc-43a7-a6c6-b1dddf9d0e3e",
   "metadata": {},
   "outputs": [
    {
     "data": {
      "text/html": [
       "<div>\n",
       "<style scoped>\n",
       "    .dataframe tbody tr th:only-of-type {\n",
       "        vertical-align: middle;\n",
       "    }\n",
       "\n",
       "    .dataframe tbody tr th {\n",
       "        vertical-align: top;\n",
       "    }\n",
       "\n",
       "    .dataframe thead th {\n",
       "        text-align: right;\n",
       "    }\n",
       "</style>\n",
       "<table border=\"1\" class=\"dataframe\">\n",
       "  <thead>\n",
       "    <tr style=\"text-align: right;\">\n",
       "      <th></th>\n",
       "      <th>created_at</th>\n",
       "      <th>text</th>\n",
       "    </tr>\n",
       "  </thead>\n",
       "  <tbody>\n",
       "    <tr>\n",
       "      <th>0</th>\n",
       "      <td>2021-07-09 23:59:53</td>\n",
       "      <td>Aşı reklamlarında oynamak üzere Taksim delisi ...</td>\n",
       "    </tr>\n",
       "    <tr>\n",
       "      <th>1</th>\n",
       "      <td>2021-07-09 23:59:40</td>\n",
       "      <td>Hadi aşı olduk tamam da abi kolumun ağrısından...</td>\n",
       "    </tr>\n",
       "    <tr>\n",
       "      <th>2</th>\n",
       "      <td>2021-07-09 23:59:37</td>\n",
       "      <td>Ya ben hasta felan değilim niye aşı vuruluyoru...</td>\n",
       "    </tr>\n",
       "    <tr>\n",
       "      <th>3</th>\n",
       "      <td>2021-07-09 23:59:31</td>\n",
       "      <td>@drkaanyl Saglik Bakanlığı'ndan onaylı mı faz3...</td>\n",
       "    </tr>\n",
       "    <tr>\n",
       "      <th>4</th>\n",
       "      <td>2021-07-09 23:59:00</td>\n",
       "      <td>Annem aşı olmamı istemiyordu ve bayramdan sonr...</td>\n",
       "    </tr>\n",
       "    <tr>\n",
       "      <th>...</th>\n",
       "      <td>...</td>\n",
       "      <td>...</td>\n",
       "    </tr>\n",
       "    <tr>\n",
       "      <th>995</th>\n",
       "      <td>2021-07-09 22:17:24</td>\n",
       "      <td>Aşı yaşı 16 ya düşmüş cumhuriyet parkı civarı ...</td>\n",
       "    </tr>\n",
       "    <tr>\n",
       "      <th>996</th>\n",
       "      <td>2021-07-09 22:17:22</td>\n",
       "      <td>@akgencliksiirt @MehmedEfe_ @eyupkadirinan @Av...</td>\n",
       "    </tr>\n",
       "    <tr>\n",
       "      <th>997</th>\n",
       "      <td>2021-07-09 22:17:14</td>\n",
       "      <td>Zorunlu aşı diye bir şey söz konusu olamaz  #Ö...</td>\n",
       "    </tr>\n",
       "    <tr>\n",
       "      <th>998</th>\n",
       "      <td>2021-07-09 22:17:13</td>\n",
       "      <td>pazartesi aşı olmaya gideceğim 😳</td>\n",
       "    </tr>\n",
       "    <tr>\n",
       "      <th>999</th>\n",
       "      <td>2021-07-09 22:17:08</td>\n",
       "      <td>Aşı sırası 16ya düşmüş diyorlar doğru mu?</td>\n",
       "    </tr>\n",
       "  </tbody>\n",
       "</table>\n",
       "<p>1000 rows × 2 columns</p>\n",
       "</div>"
      ],
      "text/plain": [
       "              created_at                                               text\n",
       "0    2021-07-09 23:59:53  Aşı reklamlarında oynamak üzere Taksim delisi ...\n",
       "1    2021-07-09 23:59:40  Hadi aşı olduk tamam da abi kolumun ağrısından...\n",
       "2    2021-07-09 23:59:37  Ya ben hasta felan değilim niye aşı vuruluyoru...\n",
       "3    2021-07-09 23:59:31  @drkaanyl Saglik Bakanlığı'ndan onaylı mı faz3...\n",
       "4    2021-07-09 23:59:00  Annem aşı olmamı istemiyordu ve bayramdan sonr...\n",
       "..                   ...                                                ...\n",
       "995  2021-07-09 22:17:24  Aşı yaşı 16 ya düşmüş cumhuriyet parkı civarı ...\n",
       "996  2021-07-09 22:17:22  @akgencliksiirt @MehmedEfe_ @eyupkadirinan @Av...\n",
       "997  2021-07-09 22:17:14  Zorunlu aşı diye bir şey söz konusu olamaz  #Ö...\n",
       "998  2021-07-09 22:17:13                   pazartesi aşı olmaya gideceğim 😳\n",
       "999  2021-07-09 22:17:08          Aşı sırası 16ya düşmüş diyorlar doğru mu?\n",
       "\n",
       "[1000 rows x 2 columns]"
      ]
     },
     "execution_count": 21,
     "metadata": {},
     "output_type": "execute_result"
    }
   ],
   "source": [
    "df_tweet = pd.read_csv(outfilename, sep = '|',usecols =[\"created_at\", \"text\"])\n",
    "df_tweet"
   ]
  },
  {
   "cell_type": "code",
   "execution_count": 22,
   "id": "f86f7c3c-e1b1-409d-a88f-da5efca29f47",
   "metadata": {},
   "outputs": [],
   "source": [
    "# Generate sentiment scores\n",
    "sentiment_scores = df_tweet['text'].apply(sid.polarity_scores)"
   ]
  },
  {
   "cell_type": "code",
   "execution_count": 25,
   "id": "445196d8-04d7-43e0-baa8-f72d0367fdeb",
   "metadata": {},
   "outputs": [
    {
     "data": {
      "text/plain": [
       "0      0.0\n",
       "1      0.0\n",
       "2      0.0\n",
       "3      0.0\n",
       "4      0.0\n",
       "      ... \n",
       "995    0.0\n",
       "996    0.0\n",
       "997    0.0\n",
       "998    0.0\n",
       "999    0.0\n",
       "Name: text, Length: 1000, dtype: float64"
      ]
     },
     "execution_count": 25,
     "metadata": {},
     "output_type": "execute_result"
    }
   ],
   "source": [
    "sentiment = sentiment_scores.apply(lambda x: x['compound'])\n",
    "sentiment"
   ]
  },
  {
   "cell_type": "code",
   "execution_count": 26,
   "id": "aab72aea-9e89-4042-8270-1cf55e88c51c",
   "metadata": {},
   "outputs": [
    {
     "name": "stdout",
     "output_type": "stream",
     "text": [
      "@Murtaza71233508 Hiçbir aşı 3 doz vurulmaz, aşı insanı virüsten korur, aşı olup hastalığı kapmazsın. Kitap okumaktan mı bahsediyorsun ? Tarihte nerede yaşanmış bu olay anlat. Sağlık bakanı bile mrna aşılarının uzun süreli etkisini bilmiyoruz diyor burada bilgili gözükmeye çalışıyorsun :D\n",
      "----------------------negatives-------------------\n",
      "Isirildim sag elim agriyo, asi oldum sol kolum agriyo ama canim kedim istersen beni yiyebilirsin sorun degil gece uykumda yuzume otur olem tbh kill me srsly\n"
     ]
    }
   ],
   "source": [
    "# Print out the text of a positive tweet\n",
    "print(df_tweet[sentiment > 0.6]['text'].values[0])\n",
    "\n",
    "# Print out the text of a negative tweet\n",
    "print(\"----------------------negatives-------------------\")\n",
    "print(df_tweet[sentiment < -0.6]['text'].values[0])"
   ]
  },
  {
   "cell_type": "code",
   "execution_count": null,
   "id": "2a7b5ce9-3ace-4981-95e8-0cfe536d4d4f",
   "metadata": {},
   "outputs": [],
   "source": []
  }
 ],
 "metadata": {
  "kernelspec": {
   "display_name": "Python 3",
   "language": "python",
   "name": "python3"
  },
  "language_info": {
   "codemirror_mode": {
    "name": "ipython",
    "version": 3
   },
   "file_extension": ".py",
   "mimetype": "text/x-python",
   "name": "python",
   "nbconvert_exporter": "python",
   "pygments_lexer": "ipython3",
   "version": "3.8.10"
  }
 },
 "nbformat": 4,
 "nbformat_minor": 5
}
